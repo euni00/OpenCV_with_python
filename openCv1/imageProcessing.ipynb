{
 "cells": [
  {
   "cell_type": "code",
   "execution_count": 3,
   "metadata": {},
   "outputs": [
    {
     "name": "stdout",
     "output_type": "stream",
     "text": [
      "113\n"
     ]
    }
   ],
   "source": [
    "import cv2\n",
    "img = cv2.imread('img.jpg') # 해당 경로의 파일 읽어오기\n",
    "cv2.imshow('img', img) # img 라는 이름의 창에 img를 표시\n",
    "key = cv2.waitKey(5000) # 지정된 시간 동안 사용자 키 입력 대기, 0ms 대기, 5000ms 대기 (5초 대기)\n",
    "print(key) # A키 누르기 -> ASCII 코드 출력 (특정 행동을 코딩 가능)\n",
    "cv2.destroyAllWindows() # 모든 창 닫기\n",
    "\n",
    "# 이미지 출력의 3가지 옵션\n",
    "\n",
    "# 1. 읽기 옵션\n",
    "# 1) cv2.IMREAD_COLOR : 컬러 이미지 가져오기. 투명 영역은 무시 (기본값)\n",
    "# 2) cv2.IMREAD_GRAYSCALE : 흑백 이미지 가져오기.\n",
    "# 3) cv2.IMREAD_UNCHANGED : 투명 영역까지 포함\n",
    "\n",
    "# ctrl + shift + ` -> 가상환경 실행"
   ]
  },
  {
   "cell_type": "code",
   "execution_count": 2,
   "metadata": {},
   "outputs": [],
   "source": [
    "import cv2 \n",
    "img_color = cv2.imread('img.jpg', cv2.IMREAD_COLOR)\n",
    "img_gray = cv2.imread('img.jpg', cv2.IMREAD_GRAYSCALE)\n",
    "img_unchanged = cv2.imread('img.jpg', cv2.IMREAD_UNCHANGED)\n",
    "\n",
    "cv2.imshow('img', img_color)\n",
    "cv2.imshow('img_gray', img_gray)\n",
    "cv2.imshow('img_unchanged', img_unchanged)\n",
    "\n",
    "cv2.waitKey(0)\n",
    "cv2.destroyAllWindows()"
   ]
  },
  {
   "cell_type": "code",
   "execution_count": 4,
   "metadata": {},
   "outputs": [
    {
     "data": {
      "text/plain": [
       "(427, 640, 3)"
      ]
     },
     "execution_count": 4,
     "metadata": {},
     "output_type": "execute_result"
    }
   ],
   "source": [
    "# Shape \n",
    "# 이미지의 height, width, channel 정보\n",
    "\n",
    "import cv2\n",
    "img = cv2.imread('img.jpg')\n",
    "img.shape # height, width, channel "
   ]
  }
 ],
 "metadata": {
  "kernelspec": {
   "display_name": "Python 3",
   "language": "python",
   "name": "python3"
  },
  "language_info": {
   "codemirror_mode": {
    "name": "ipython",
    "version": 3
   },
   "file_extension": ".py",
   "mimetype": "text/x-python",
   "name": "python",
   "nbconvert_exporter": "python",
   "pygments_lexer": "ipython3",
   "version": "3.10.4"
  },
  "vscode": {
   "interpreter": {
    "hash": "9602fe3453ce52e83c7e6aede68d7a6a80e39ade0ce7b60a5a68ae95517a42fb"
   }
  }
 },
 "nbformat": 4,
 "nbformat_minor": 2
}
